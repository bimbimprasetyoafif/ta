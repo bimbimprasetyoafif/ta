{
 "cells": [
  {
   "cell_type": "code",
   "execution_count": 1,
   "id": "running-saint",
   "metadata": {},
   "outputs": [
    {
     "name": "stdout",
     "output_type": "stream",
     "text": [
      "[name: \"/device:CPU:0\"\n",
      "device_type: \"CPU\"\n",
      "memory_limit: 268435456\n",
      "locality {\n",
      "}\n",
      "incarnation: 2430396140605847171\n",
      ", name: \"/device:XLA_CPU:0\"\n",
      "device_type: \"XLA_CPU\"\n",
      "memory_limit: 17179869184\n",
      "locality {\n",
      "}\n",
      "incarnation: 16644825810869259828\n",
      "physical_device_desc: \"device: XLA_CPU device\"\n",
      ", name: \"/device:XLA_GPU:0\"\n",
      "device_type: \"XLA_GPU\"\n",
      "memory_limit: 17179869184\n",
      "locality {\n",
      "}\n",
      "incarnation: 11324385003494146726\n",
      "physical_device_desc: \"device: XLA_GPU device\"\n",
      "]\n"
     ]
    }
   ],
   "source": [
    "# Set all dependency and variable\n",
    "\n",
    "# %load_ext tensorboard\n",
    "import datetime\n",
    "import numpy as np\n",
    "import seaborn as sn\n",
    "import pandas as pd\n",
    "import sklearn.metrics\n",
    "import matplotlib.pyplot as plt\n",
    "\n",
    "import tensorflow as tf\n",
    "import keras_preprocessing\n",
    "\n",
    "from tensorflow.python.client import device_lib \n",
    "from tensorflow.keras import utils, layers, backend\n",
    "\n",
    "from keras_preprocessing import image\n",
    "from keras_preprocessing.image import ImageDataGenerator\n",
    "\n",
    "from skimage import exposure\n",
    "from skimage import filters\n",
    "\n",
    "\n",
    "print(device_lib.list_local_devices())\n"
   ]
  },
  {
   "cell_type": "code",
   "execution_count": 2,
   "id": "cordless-folks",
   "metadata": {},
   "outputs": [
    {
     "name": "stdout",
     "output_type": "stream",
     "text": [
      "Num CPUUs Available:  1\n",
      "Num GPUs Available:  0\n"
     ]
    }
   ],
   "source": [
    "# Check number of CPU and GPU that Tensorflow used\\\n",
    "\n",
    "print(\"Num CPUUs Available: \", len(tf.config.list_physical_devices('CPU')))\n",
    "print(\"Num GPUs Available: \", len(tf.config.list_physical_devices('GPU')))\n",
    "# physical_devices = tf.config.list_physical_devices('GPU') \n",
    "# tf.config.experimental.set_memory_growth(physical_devices[0], True)"
   ]
  },
  {
   "cell_type": "code",
   "execution_count": 3,
   "id": "precise-showcase",
   "metadata": {},
   "outputs": [],
   "source": [
    "IMAGE_SIZE = 224\n",
    "BATCH_SIZE = 8\n",
    "\n",
    "IMAGE_SHAPE = (IMAGE_SIZE, IMAGE_SIZE, 3)"
   ]
  },
  {
   "cell_type": "code",
   "execution_count": 4,
   "id": "unlimited-warrior",
   "metadata": {},
   "outputs": [],
   "source": [
    "datagen = ImageDataGenerator(\n",
    "#     rescale = 1./127.5,\n",
    "    rescale = 1./255. ,\n",
    "    rotation_range=45,\n",
    "    # featurewise_center=True,\n",
    "    width_shift_range=0.2,\n",
    "    height_shift_range=0.2,\n",
    "    shear_range=0.2,\n",
    "#     zoom_range=0.2,\n",
    "    horizontal_flip=True,\n",
    "    fill_mode='nearest',\n",
    "#     preprocessing_function = preprocess,\n",
    "    validation_split=0.25,\n",
    ")\n",
    "\n",
    "test_generator = ImageDataGenerator(\n",
    "    rescale = 1./255. ,\n",
    "    validation_split=0.25,\n",
    ")\n"
   ]
  },
  {
   "cell_type": "code",
   "execution_count": 5,
   "id": "paperback-aviation",
   "metadata": {},
   "outputs": [
    {
     "name": "stdout",
     "output_type": "stream",
     "text": [
      "Loading training data...\t\tFound 638 images belonging to 8 classes.\n",
      "Loading validation data...\t\tFound 207 images belonging to 8 classes.\n"
     ]
    }
   ],
   "source": [
    "TRAINING_DIR = \"dataset\"\n",
    "VALIDATION_DIR = \"validation\"\n",
    "TEST_DIR = \"dataset_kue_test_2\"\n",
    "\n",
    "print(\"Loading training data...\\t\\t\", end='')\n",
    "train_generator = datagen.flow_from_directory(\n",
    "\t  TRAINING_DIR,\n",
    "  \ttarget_size=(IMAGE_SIZE,IMAGE_SIZE),\n",
    "    batch_size=BATCH_SIZE,\n",
    "    subset='training',\n",
    "    class_mode='categorical',\n",
    "    shuffle=True,\n",
    ")\n",
    "\n",
    "print(\"Loading validation data...\\t\\t\", end='')\n",
    "validation_generator = test_generator.flow_from_directory(\n",
    "  \t TRAINING_DIR,\n",
    "#     VALIDATION_DIR,\n",
    "\t  target_size=(IMAGE_SIZE,IMAGE_SIZE),\n",
    "    batch_size=BATCH_SIZE,\n",
    "    subset='validation',\n",
    "    class_mode='categorical',\n",
    "    shuffle=True,\n",
    ")\n"
   ]
  },
  {
   "cell_type": "code",
   "execution_count": 6,
   "id": "90d6f8bf-fdd8-497b-a275-38c910d80bb2",
   "metadata": {},
   "outputs": [
    {
     "name": "stdout",
     "output_type": "stream",
     "text": [
      "Loading testing data...\t\tFound 160 images belonging to 8 classes.\n"
     ]
    }
   ],
   "source": [
    "\n",
    "print(\"Loading testing data...\\t\\t\", end='')\n",
    "test_data = test_generator.flow_from_directory(\n",
    "    TEST_DIR,\n",
    "    target_size=(IMAGE_SIZE,IMAGE_SIZE),\n",
    "    batch_size=BATCH_SIZE,\n",
    "    class_mode='categorical',\n",
    "    shuffle=False,\n",
    ")"
   ]
  },
  {
   "cell_type": "code",
   "execution_count": 7,
   "id": "appointed-richards",
   "metadata": {},
   "outputs": [],
   "source": [
    "# train_images_7, train_labels_7 = train_generator[5]\n",
    "# print(train_images_7.shape)\n",
    "# print(train_labels_7.shape)\n",
    "\n",
    "# plt.figure(figsize=(20, 20))\n",
    "\n",
    "# for idx in range(16):\n",
    "#     ax = plt.subplot(2, 4, idx + 1)\n",
    "#     plt.imshow(keras_preprocessing.image.array_to_img(train_images_7[idx]))\n",
    "#     plt.title(str(train_labels_7[idx]))\n",
    "#     plt.axis('off')\n",
    "\n",
    "# plt.show"
   ]
  },
  {
   "cell_type": "code",
   "execution_count": 8,
   "id": "adequate-means",
   "metadata": {},
   "outputs": [
    {
     "name": "stdout",
     "output_type": "stream",
     "text": [
      "['kue_cenil', 'kue_clorot', 'kue_dadar_gulung', 'kue_klepon', 'kue_lapis', 'kue_lumpur', 'kue_mendut', 'kue_serabi']\n"
     ]
    }
   ],
   "source": [
    "class_names = []\n",
    "for a in train_generator.class_indices:\n",
    "    class_names.append(a)\n",
    "print(class_names)"
   ]
  },
  {
   "cell_type": "code",
   "execution_count": 9,
   "id": "derived-islam",
   "metadata": {},
   "outputs": [
    {
     "data": {
      "text/plain": [
       "((8, 224, 224, 3), (8, 8))"
      ]
     },
     "execution_count": 9,
     "metadata": {},
     "output_type": "execute_result"
    }
   ],
   "source": [
    "for image_batch, label_batch in train_generator:\n",
    "  break\n",
    "image_batch.shape, label_batch.shape"
   ]
  },
  {
   "cell_type": "code",
   "execution_count": 10,
   "id": "protecting-leeds",
   "metadata": {},
   "outputs": [
    {
     "name": "stdout",
     "output_type": "stream",
     "text": [
      "{'kue_cenil': 0, 'kue_clorot': 1, 'kue_dadar_gulung': 2, 'kue_klepon': 3, 'kue_lapis': 4, 'kue_lumpur': 5, 'kue_mendut': 6, 'kue_serabi': 7}\n"
     ]
    }
   ],
   "source": [
    "print (train_generator.class_indices)\n",
    "\n",
    "labels = '\\n'.join(sorted(train_generator.class_indices.keys()))\n",
    "\n",
    "with open('labels.txt', 'w') as f:\n",
    "  f.write(labels)"
   ]
  },
  {
   "cell_type": "code",
   "execution_count": 11,
   "id": "characteristic-cable",
   "metadata": {},
   "outputs": [],
   "source": [
    "base_model = tf.keras.applications.MobileNetV2(\n",
    "    IMAGE_SHAPE,\n",
    "    include_top=False,\n",
    "    weights='imagenet',\n",
    ")\n",
    "base_model.trainable = False\n",
    "# base_model.summary()"
   ]
  },
  {
   "cell_type": "code",
   "execution_count": 12,
   "id": "acquired-cheese",
   "metadata": {},
   "outputs": [
    {
     "name": "stdout",
     "output_type": "stream",
     "text": [
      "Model: \"model\"\n",
      "_________________________________________________________________\n",
      "Layer (type)                 Output Shape              Param #   \n",
      "=================================================================\n",
      "input_2 (InputLayer)         [(None, 224, 224, 3)]     0         \n",
      "_________________________________________________________________\n",
      "mobilenetv2_1.00_224 (Model) (None, 7, 7, 1280)        2257984   \n",
      "_________________________________________________________________\n",
      "global_average_pooling2d (Gl (None, 1280)              0         \n",
      "_________________________________________________________________\n",
      "dropout (Dropout)            (None, 1280)              0         \n",
      "_________________________________________________________________\n",
      "dense (Dense)                (None, 1024)              1311744   \n",
      "_________________________________________________________________\n",
      "dropout_1 (Dropout)          (None, 1024)              0         \n",
      "_________________________________________________________________\n",
      "dense_1 (Dense)              (None, 8)                 8200      \n",
      "=================================================================\n",
      "Total params: 3,577,928\n",
      "Trainable params: 1,319,944\n",
      "Non-trainable params: 2,257,984\n",
      "_________________________________________________________________\n"
     ]
    },
    {
     "data": {
      "image/png": "[encoded data removed]",
      "text/plain": [
       "<IPython.core.display.Image object>"
      ]
     },
     "execution_count": 12,
     "metadata": {},
     "output_type": "execute_result"
    }
   ],
   "source": [
    "input_layer = tf.keras.Input(shape=IMAGE_SHAPE)\n",
    "# x = tf.keras.applications.mobilenet_v2.preprocess_input(input_layer)\n",
    "x = base_model(input_layer, training=False)\n",
    "\n",
    "#keras\n",
    "# x = layers.GlobalAveragePooling2D()(x)\n",
    "\n",
    "#fastai\n",
    "# x1 = layers.GlobalAveragePooling2D()(x)\n",
    "# x2 = layers.GlobalMaxPooling2D()(x)\n",
    "# x = layers.Concatenate()([x1, x2])\n",
    "# x = layers.BatchNormalization()(x)\n",
    "# x = layers.Dropout(0.5)(x)\n",
    "# x = layers.Dense(512, activation=\"relu\")(x)\n",
    "# x = layers.BatchNormalization()(x)\n",
    "# x = layers.Dropout(0.5)(x)\n",
    "\n",
    "#sazzad\n",
    "x = layers.GlobalAveragePooling2D()(x)\n",
    "x = layers.Dropout(0.5)(x)\n",
    "x = layers.Dense(1024, activation=\"relu\")(x)\n",
    "x = layers.Dropout(0.5)(x)\n",
    "\n",
    "#bimo\n",
    "# x = layers.GlobalMaxPooling2D()(x)\n",
    "# x = layers.Dense(1024, activation=\"relu\")(x)\n",
    "# x = layers.Dropout(0.2)(x)\n",
    "# x = layers.Dense(128, activation=\"relu\")(x)\n",
    "# x = layers.Dropout(0.2)(x)\n",
    "\n",
    "output_layer = layers.Dense(train_generator.num_classes, activation=\"softmax\")(x)\n",
    "\n",
    "model = tf.keras.Model(inputs=input_layer, outputs=output_layer)\n",
    "\n",
    "l_rate = 0.00001\n",
    "model.compile(loss='categorical_crossentropy', optimizer=tf.keras.optimizers.Adam(learning_rate=l_rate), metrics=['accuracy'])\n",
    "\n",
    "model.summary()\n",
    "utils.plot_model(model, show_layer_names=True, show_shapes=True)"
   ]
  },
  {
   "cell_type": "code",
   "execution_count": 13,
   "id": "neither-trace",
   "metadata": {},
   "outputs": [
    {
     "name": "stdout",
     "output_type": "stream",
     "text": [
      "Epoch 1/100\n",
      "80/80 [==============================] - 22s 278ms/step - loss: 2.8167 - accuracy: 0.1379 - val_loss: 2.1118 - val_accuracy: 0.1691\n",
      "Epoch 2/100\n",
      "80/80 [==============================] - 21s 267ms/step - loss: 2.4935 - accuracy: 0.1724 - val_loss: 1.8872 - val_accuracy: 0.2754\n",
      "Epoch 3/100\n",
      "80/80 [==============================] - 21s 262ms/step - loss: 2.2763 - accuracy: 0.2132 - val_loss: 1.6983 - val_accuracy: 0.4396\n",
      "Epoch 4/100\n",
      "80/80 [==============================] - 22s 276ms/step - loss: 2.2934 - accuracy: 0.2273 - val_loss: 1.5380 - val_accuracy: 0.5845\n",
      "Epoch 5/100\n",
      "80/80 [==============================] - 22s 280ms/step - loss: 1.9948 - accuracy: 0.3354 - val_loss: 1.3980 - val_accuracy: 0.6763\n",
      "Epoch 6/100\n",
      "80/80 [==============================] - 22s 272ms/step - loss: 1.8928 - accuracy: 0.3558 - val_loss: 1.2764 - val_accuracy: 0.7053\n",
      "Epoch 7/100\n",
      "80/80 [==============================] - 21s 266ms/step - loss: 1.7744 - accuracy: 0.3605 - val_loss: 1.1709 - val_accuracy: 0.7536\n",
      "Epoch 8/100\n",
      "80/80 [==============================] - 21s 263ms/step - loss: 1.6369 - accuracy: 0.4467 - val_loss: 1.0768 - val_accuracy: 0.7681\n",
      "Epoch 9/100\n",
      "80/80 [==============================] - 21s 262ms/step - loss: 1.5352 - accuracy: 0.4545 - val_loss: 0.9892 - val_accuracy: 0.7971\n",
      "Epoch 10/100\n",
      "80/80 [==============================] - 21s 262ms/step - loss: 1.5057 - accuracy: 0.4671 - val_loss: 0.9105 - val_accuracy: 0.8164\n",
      "Epoch 11/100\n",
      "80/80 [==============================] - 21s 259ms/step - loss: 1.3683 - accuracy: 0.4906 - val_loss: 0.8428 - val_accuracy: 0.8213\n",
      "Epoch 12/100\n",
      "80/80 [==============================] - 21s 261ms/step - loss: 1.2446 - accuracy: 0.5329 - val_loss: 0.7850 - val_accuracy: 0.8309\n",
      "Epoch 13/100\n",
      "80/80 [==============================] - 21s 263ms/step - loss: 1.2186 - accuracy: 0.5737 - val_loss: 0.7314 - val_accuracy: 0.8502\n",
      "Epoch 14/100\n",
      "80/80 [==============================] - 21s 259ms/step - loss: 1.1521 - accuracy: 0.5972 - val_loss: 0.6832 - val_accuracy: 0.8599\n",
      "Epoch 15/100\n",
      "80/80 [==============================] - 21s 259ms/step - loss: 1.1317 - accuracy: 0.6003 - val_loss: 0.6398 - val_accuracy: 0.8792\n",
      "Epoch 16/100\n",
      "80/80 [==============================] - 21s 259ms/step - loss: 1.0543 - accuracy: 0.6379 - val_loss: 0.5992 - val_accuracy: 0.8937\n",
      "Epoch 17/100\n",
      "80/80 [==============================] - 21s 261ms/step - loss: 1.0395 - accuracy: 0.6395 - val_loss: 0.5637 - val_accuracy: 0.8986\n",
      "Epoch 18/100\n",
      "80/80 [==============================] - 21s 263ms/step - loss: 0.9852 - accuracy: 0.6661 - val_loss: 0.5326 - val_accuracy: 0.9082\n",
      "Epoch 19/100\n",
      "80/80 [==============================] - 21s 260ms/step - loss: 0.9659 - accuracy: 0.6661 - val_loss: 0.5034 - val_accuracy: 0.9179\n",
      "Epoch 20/100\n",
      "80/80 [==============================] - 21s 262ms/step - loss: 0.9372 - accuracy: 0.6991 - val_loss: 0.4761 - val_accuracy: 0.9324\n",
      "Epoch 21/100\n",
      "80/80 [==============================] - 21s 261ms/step - loss: 0.8507 - accuracy: 0.7163 - val_loss: 0.4544 - val_accuracy: 0.9372\n",
      "Epoch 22/100\n",
      "80/80 [==============================] - 21s 261ms/step - loss: 0.8264 - accuracy: 0.7273 - val_loss: 0.4379 - val_accuracy: 0.9275\n",
      "Epoch 23/100\n",
      "80/80 [==============================] - 21s 261ms/step - loss: 0.7608 - accuracy: 0.7445 - val_loss: 0.4189 - val_accuracy: 0.9324\n",
      "Epoch 24/100\n",
      "80/80 [==============================] - 21s 260ms/step - loss: 0.7743 - accuracy: 0.7257 - val_loss: 0.4060 - val_accuracy: 0.9324\n",
      "Epoch 25/100\n",
      "80/80 [==============================] - 21s 260ms/step - loss: 0.7368 - accuracy: 0.7586 - val_loss: 0.3825 - val_accuracy: 0.9420\n",
      "Epoch 26/100\n",
      "80/80 [==============================] - 22s 269ms/step - loss: 0.6764 - accuracy: 0.7665 - val_loss: 0.3687 - val_accuracy: 0.9420\n",
      "Epoch 27/100\n",
      "80/80 [==============================] - 21s 262ms/step - loss: 0.6820 - accuracy: 0.7680 - val_loss: 0.3536 - val_accuracy: 0.9420\n",
      "Epoch 28/100\n",
      "80/80 [==============================] - 21s 266ms/step - loss: 0.6926 - accuracy: 0.7743 - val_loss: 0.3438 - val_accuracy: 0.9372\n",
      "Epoch 29/100\n",
      "80/80 [==============================] - 21s 265ms/step - loss: 0.6419 - accuracy: 0.7853 - val_loss: 0.3319 - val_accuracy: 0.9469\n",
      "Epoch 30/100\n",
      "80/80 [==============================] - 21s 264ms/step - loss: 0.6466 - accuracy: 0.7837 - val_loss: 0.3170 - val_accuracy: 0.9469\n",
      "Epoch 31/100\n",
      "80/80 [==============================] - 21s 264ms/step - loss: 0.6642 - accuracy: 0.7806 - val_loss: 0.3096 - val_accuracy: 0.9469\n",
      "Epoch 32/100\n",
      "80/80 [==============================] - 21s 264ms/step - loss: 0.5797 - accuracy: 0.8041 - val_loss: 0.2996 - val_accuracy: 0.9469\n",
      "Epoch 33/100\n",
      "80/80 [==============================] - 21s 261ms/step - loss: 0.5813 - accuracy: 0.8292 - val_loss: 0.2927 - val_accuracy: 0.9469\n",
      "Epoch 34/100\n",
      "80/80 [==============================] - 22s 270ms/step - loss: 0.5587 - accuracy: 0.8119 - val_loss: 0.2810 - val_accuracy: 0.9469\n",
      "Epoch 35/100\n",
      "80/80 [==============================] - 22s 281ms/step - loss: 0.5377 - accuracy: 0.8276 - val_loss: 0.2760 - val_accuracy: 0.9469\n",
      "Epoch 36/100\n",
      "80/80 [==============================] - 23s 288ms/step - loss: 0.5433 - accuracy: 0.8323 - val_loss: 0.2694 - val_accuracy: 0.9469\n",
      "Epoch 37/100\n",
      "80/80 [==============================] - 23s 287ms/step - loss: 0.5073 - accuracy: 0.8370 - val_loss: 0.2558 - val_accuracy: 0.9517\n",
      "Epoch 38/100\n",
      "80/80 [==============================] - 21s 266ms/step - loss: 0.4823 - accuracy: 0.8370 - val_loss: 0.2505 - val_accuracy: 0.9517\n",
      "Epoch 39/100\n",
      "80/80 [==============================] - 21s 263ms/step - loss: 0.4805 - accuracy: 0.8542 - val_loss: 0.2453 - val_accuracy: 0.9517\n",
      "Epoch 40/100\n",
      "80/80 [==============================] - 21s 264ms/step - loss: 0.4795 - accuracy: 0.8417 - val_loss: 0.2446 - val_accuracy: 0.9517\n",
      "Epoch 41/100\n",
      "80/80 [==============================] - 21s 268ms/step - loss: 0.4970 - accuracy: 0.8307 - val_loss: 0.2378 - val_accuracy: 0.9517\n",
      "Epoch 42/100\n",
      "80/80 [==============================] - 21s 261ms/step - loss: 0.4302 - accuracy: 0.8511 - val_loss: 0.2292 - val_accuracy: 0.9517\n",
      "Epoch 43/100\n",
      "80/80 [==============================] - 21s 260ms/step - loss: 0.4275 - accuracy: 0.8699 - val_loss: 0.2250 - val_accuracy: 0.9517\n",
      "Epoch 44/100\n",
      "80/80 [==============================] - 21s 264ms/step - loss: 0.4606 - accuracy: 0.8511 - val_loss: 0.2188 - val_accuracy: 0.9517\n",
      "Epoch 45/100\n",
      "80/80 [==============================] - 21s 264ms/step - loss: 0.4171 - accuracy: 0.8574 - val_loss: 0.2139 - val_accuracy: 0.9517\n",
      "Epoch 46/100\n",
      "80/80 [==============================] - 21s 265ms/step - loss: 0.4279 - accuracy: 0.8699 - val_loss: 0.2111 - val_accuracy: 0.9517\n",
      "Epoch 47/100\n",
      "80/80 [==============================] - 21s 263ms/step - loss: 0.3990 - accuracy: 0.8621 - val_loss: 0.2109 - val_accuracy: 0.9517\n",
      "Epoch 48/100\n",
      "80/80 [==============================] - 21s 263ms/step - loss: 0.3787 - accuracy: 0.8762 - val_loss: 0.2019 - val_accuracy: 0.9517\n",
      "Epoch 49/100\n",
      "80/80 [==============================] - 21s 260ms/step - loss: 0.3698 - accuracy: 0.8730 - val_loss: 0.1971 - val_accuracy: 0.9517\n",
      "Epoch 50/100\n",
      "80/80 [==============================] - 21s 263ms/step - loss: 0.3934 - accuracy: 0.8871 - val_loss: 0.1979 - val_accuracy: 0.9517\n",
      "Epoch 51/100\n",
      "80/80 [==============================] - 21s 266ms/step - loss: 0.3272 - accuracy: 0.9138 - val_loss: 0.1964 - val_accuracy: 0.9517\n",
      "Epoch 52/100\n",
      "80/80 [==============================] - 21s 266ms/step - loss: 0.3632 - accuracy: 0.8809 - val_loss: 0.1911 - val_accuracy: 0.9469\n",
      "Epoch 53/100\n",
      "80/80 [==============================] - 21s 265ms/step - loss: 0.3932 - accuracy: 0.8746 - val_loss: 0.1892 - val_accuracy: 0.9469\n",
      "Epoch 54/100\n",
      "80/80 [==============================] - 21s 264ms/step - loss: 0.3747 - accuracy: 0.8762 - val_loss: 0.1884 - val_accuracy: 0.9469\n",
      "Epoch 55/100\n",
      "80/80 [==============================] - 21s 261ms/step - loss: 0.3853 - accuracy: 0.8715 - val_loss: 0.1852 - val_accuracy: 0.9469\n",
      "Epoch 56/100\n",
      "80/80 [==============================] - 21s 265ms/step - loss: 0.3583 - accuracy: 0.8777 - val_loss: 0.1775 - val_accuracy: 0.9469\n",
      "Epoch 57/100\n",
      "80/80 [==============================] - 21s 263ms/step - loss: 0.3791 - accuracy: 0.8777 - val_loss: 0.1695 - val_accuracy: 0.9469\n",
      "Epoch 58/100\n",
      "80/80 [==============================] - 21s 264ms/step - loss: 0.3413 - accuracy: 0.8918 - val_loss: 0.1686 - val_accuracy: 0.9469\n",
      "Epoch 59/100\n",
      "80/80 [==============================] - 21s 262ms/step - loss: 0.2952 - accuracy: 0.9028 - val_loss: 0.1727 - val_accuracy: 0.9469\n",
      "Epoch 60/100\n",
      "80/80 [==============================] - 21s 265ms/step - loss: 0.3429 - accuracy: 0.8824 - val_loss: 0.1685 - val_accuracy: 0.9469\n",
      "Epoch 61/100\n",
      "80/80 [==============================] - 21s 262ms/step - loss: 0.3474 - accuracy: 0.8840 - val_loss: 0.1697 - val_accuracy: 0.9469\n",
      "Epoch 62/100\n",
      "80/80 [==============================] - 21s 264ms/step - loss: 0.3146 - accuracy: 0.9060 - val_loss: 0.1711 - val_accuracy: 0.9469\n",
      "Epoch 63/100\n",
      "80/80 [==============================] - 21s 263ms/step - loss: 0.2781 - accuracy: 0.9185 - val_loss: 0.1648 - val_accuracy: 0.9469\n",
      "Epoch 64/100\n",
      "80/80 [==============================] - 21s 261ms/step - loss: 0.3102 - accuracy: 0.8950 - val_loss: 0.1624 - val_accuracy: 0.9469\n",
      "Epoch 65/100\n",
      "80/80 [==============================] - 21s 267ms/step - loss: 0.2883 - accuracy: 0.9107 - val_loss: 0.1561 - val_accuracy: 0.9469\n",
      "Epoch 66/100\n",
      "80/80 [==============================] - 21s 263ms/step - loss: 0.3172 - accuracy: 0.8840 - val_loss: 0.1548 - val_accuracy: 0.9469\n",
      "Epoch 67/100\n",
      "80/80 [==============================] - 21s 264ms/step - loss: 0.3226 - accuracy: 0.8903 - val_loss: 0.1568 - val_accuracy: 0.9469\n",
      "Epoch 68/100\n",
      "80/80 [==============================] - 21s 265ms/step - loss: 0.3038 - accuracy: 0.9075 - val_loss: 0.1556 - val_accuracy: 0.9469\n",
      "Epoch 69/100\n",
      "80/80 [==============================] - 21s 261ms/step - loss: 0.2835 - accuracy: 0.9107 - val_loss: 0.1533 - val_accuracy: 0.9469\n",
      "Epoch 70/100\n",
      "80/80 [==============================] - 21s 263ms/step - loss: 0.2737 - accuracy: 0.9216 - val_loss: 0.1565 - val_accuracy: 0.9469\n",
      "Epoch 71/100\n",
      "80/80 [==============================] - 21s 262ms/step - loss: 0.3321 - accuracy: 0.8871 - val_loss: 0.1547 - val_accuracy: 0.9469\n",
      "Epoch 72/100\n",
      "80/80 [==============================] - 21s 267ms/step - loss: 0.3168 - accuracy: 0.8918 - val_loss: 0.1519 - val_accuracy: 0.9469\n",
      "Epoch 73/100\n",
      "80/80 [==============================] - 21s 262ms/step - loss: 0.2662 - accuracy: 0.9263 - val_loss: 0.1498 - val_accuracy: 0.9469\n",
      "Epoch 74/100\n",
      "80/80 [==============================] - 21s 262ms/step - loss: 0.2953 - accuracy: 0.9013 - val_loss: 0.1475 - val_accuracy: 0.9469\n",
      "Epoch 75/100\n",
      "80/80 [==============================] - 21s 265ms/step - loss: 0.2501 - accuracy: 0.9169 - val_loss: 0.1492 - val_accuracy: 0.9420\n",
      "Epoch 76/100\n",
      "80/80 [==============================] - 21s 264ms/step - loss: 0.2401 - accuracy: 0.9279 - val_loss: 0.1449 - val_accuracy: 0.9517\n",
      "Epoch 77/100\n",
      "80/80 [==============================] - 21s 266ms/step - loss: 0.2606 - accuracy: 0.9060 - val_loss: 0.1453 - val_accuracy: 0.9517\n",
      "Epoch 78/100\n",
      "80/80 [==============================] - 21s 263ms/step - loss: 0.2658 - accuracy: 0.9201 - val_loss: 0.1482 - val_accuracy: 0.9420\n",
      "Epoch 79/100\n",
      "80/80 [==============================] - 21s 262ms/step - loss: 0.2521 - accuracy: 0.9138 - val_loss: 0.1396 - val_accuracy: 0.9517\n",
      "Epoch 80/100\n",
      "80/80 [==============================] - 21s 261ms/step - loss: 0.2316 - accuracy: 0.9201 - val_loss: 0.1404 - val_accuracy: 0.9469\n",
      "Epoch 81/100\n",
      "80/80 [==============================] - 21s 264ms/step - loss: 0.2446 - accuracy: 0.9138 - val_loss: 0.1336 - val_accuracy: 0.9469\n",
      "Epoch 82/100\n",
      "80/80 [==============================] - 21s 264ms/step - loss: 0.2560 - accuracy: 0.9279 - val_loss: 0.1317 - val_accuracy: 0.9469\n",
      "Epoch 83/100\n",
      "80/80 [==============================] - 21s 261ms/step - loss: 0.2630 - accuracy: 0.9122 - val_loss: 0.1362 - val_accuracy: 0.9469\n",
      "Epoch 84/100\n",
      "80/80 [==============================] - 21s 264ms/step - loss: 0.2436 - accuracy: 0.9248 - val_loss: 0.1341 - val_accuracy: 0.9469\n",
      "Epoch 85/100\n",
      "80/80 [==============================] - 23s 291ms/step - loss: 0.2560 - accuracy: 0.9122 - val_loss: 0.1360 - val_accuracy: 0.9469\n",
      "Epoch 86/100\n",
      "80/80 [==============================] - 24s 302ms/step - loss: 0.2510 - accuracy: 0.9185 - val_loss: 0.1353 - val_accuracy: 0.9420\n",
      "Epoch 87/100\n",
      "80/80 [==============================] - 22s 277ms/step - loss: 0.2495 - accuracy: 0.9138 - val_loss: 0.1371 - val_accuracy: 0.9420\n",
      "Epoch 88/100\n",
      "80/80 [==============================] - 22s 280ms/step - loss: 0.2105 - accuracy: 0.9216 - val_loss: 0.1367 - val_accuracy: 0.9469\n",
      "Epoch 89/100\n",
      "80/80 [==============================] - 24s 297ms/step - loss: 0.2021 - accuracy: 0.9357 - val_loss: 0.1399 - val_accuracy: 0.9469\n",
      "Epoch 90/100\n",
      "80/80 [==============================] - 25s 306ms/step - loss: 0.2293 - accuracy: 0.9248 - val_loss: 0.1355 - val_accuracy: 0.9420\n",
      "Epoch 91/100\n",
      "80/80 [==============================] - 23s 294ms/step - loss: 0.2146 - accuracy: 0.9357 - val_loss: 0.1297 - val_accuracy: 0.9469\n",
      "Epoch 92/100\n",
      "80/80 [==============================] - 26s 327ms/step - loss: 0.2261 - accuracy: 0.9232 - val_loss: 0.1248 - val_accuracy: 0.9469\n",
      "Epoch 93/100\n",
      "80/80 [==============================] - 25s 318ms/step - loss: 0.1981 - accuracy: 0.9498 - val_loss: 0.1238 - val_accuracy: 0.9517\n",
      "Epoch 94/100\n",
      "80/80 [==============================] - 23s 289ms/step - loss: 0.2132 - accuracy: 0.9295 - val_loss: 0.1271 - val_accuracy: 0.9469\n",
      "Epoch 95/100\n",
      "80/80 [==============================] - 23s 292ms/step - loss: 0.2028 - accuracy: 0.9295 - val_loss: 0.1284 - val_accuracy: 0.9469\n",
      "Epoch 96/100\n",
      "80/80 [==============================] - 23s 290ms/step - loss: 0.2122 - accuracy: 0.9295 - val_loss: 0.1316 - val_accuracy: 0.9469\n",
      "Epoch 97/100\n",
      "80/80 [==============================] - 23s 288ms/step - loss: 0.2076 - accuracy: 0.9248 - val_loss: 0.1303 - val_accuracy: 0.9469\n",
      "Epoch 98/100\n",
      "80/80 [==============================] - 22s 281ms/step - loss: 0.2273 - accuracy: 0.9138 - val_loss: 0.1289 - val_accuracy: 0.9469\n",
      "Epoch 99/100\n",
      "80/80 [==============================] - 22s 280ms/step - loss: 0.1915 - accuracy: 0.9389 - val_loss: 0.1274 - val_accuracy: 0.9469\n",
      "Epoch 100/100\n",
      "80/80 [==============================] - 23s 288ms/step - loss: 0.2107 - accuracy: 0.9263 - val_loss: 0.1269 - val_accuracy: 0.9469\n"
     ]
    }
   ],
   "source": [
    "# Train the data\n",
    "\n",
    "# %tensorboard --logdir logs\n",
    "n_epoch = 100\n",
    "# es_callback = tf.keras.callbacks.EarlyStopping(monitor='val_loss', patience=1)\n",
    "# tensorboard_callback = tf.keras.callbacks.TensorBoard(log_dir=log_dir, histogram_freq=1)\n",
    "\n",
    "# history = data_prep.fit(train_generator,\n",
    "#                     steps_per_epoch=len(train_generator), \n",
    "# #                     steps_per_epoch=100, \n",
    "#                     epochs=10, \n",
    "#                     validation_data = validation_generator, \n",
    "#                     validation_steps=len(validation_generator),\n",
    "# #                     validation_steps=100,\n",
    "# #                     batch_size=32,\n",
    "#                     # verbose=1,\n",
    "#                     # callbacks=[es_callback],\n",
    "# #                     callbacks=[cm_callback],\n",
    "#                     )\n",
    "\n",
    "history = model.fit(train_generator,\n",
    "                    epochs=n_epoch, \n",
    "                    validation_data = validation_generator, \n",
    "                    verbose=1,\n",
    "                    # callbacks=[es_callback],\n",
    "#                     callbacks=[cm_callback],\n",
    "                    )"
   ]
  },
  {
   "cell_type": "code",
   "execution_count": 14,
   "id": "after-relevance",
   "metadata": {},
   "outputs": [
    {
     "data": {
      "image/png": "[encoded data removed]",
      "text/plain": [
       "<Figure size 576x576 with 2 Axes>"
      ]
     },
     "metadata": {
      "needs_background": "light"
     },
     "output_type": "display_data"
    }
   ],
   "source": [
    "# Graph Before\n",
    "\n",
    "acc = history.history['accuracy']\n",
    "val_acc = history.history['val_accuracy']\n",
    "\n",
    "loss = history.history['loss']\n",
    "val_loss = history.history['val_loss']\n",
    "\n",
    "plt.figure(figsize=(8, 8))\n",
    "plt.subplot(2, 1, 1)\n",
    "plt.plot(acc, label='Training Accuracy')\n",
    "plt.plot(val_acc, label='Validation Accuracy')\n",
    "plt.legend(loc='lower right')\n",
    "plt.ylabel('Accuracy')\n",
    "plt.ylim([min(plt.ylim()),1])\n",
    "plt.title('Training and Validation Accuracy')\n",
    "\n",
    "plt.subplot(2, 1, 2)\n",
    "plt.plot(loss, label='Training Loss')\n",
    "plt.plot(val_loss, label='Validation Loss')\n",
    "plt.legend(loc='upper right')\n",
    "plt.ylabel('Cross Entropy')\n",
    "plt.ylim([0,3.0])\n",
    "plt.title('Training and Validation Loss')\n",
    "plt.xlabel('epoch')\n",
    "plt.show()\n"
   ]
  },
  {
   "cell_type": "code",
   "execution_count": 15,
   "id": "experienced-publication",
   "metadata": {},
   "outputs": [
    {
     "name": "stdout",
     "output_type": "stream",
     "text": [
      "Model evaluate:\n",
      "20/20 [==============================] - 3s 153ms/step - loss: 0.1405 - accuracy: 0.9500\n"
     ]
    }
   ],
   "source": [
    "print(\"Model evaluate:\")\n",
    "results = model.evaluate(test_data)"
   ]
  },
  {
   "cell_type": "code",
   "execution_count": 16,
   "id": "dynamic-sunset",
   "metadata": {},
   "outputs": [
    {
     "name": "stdout",
     "output_type": "stream",
     "text": [
      "Confusion Matrix\n",
      "[[16  1  0  0  0  1  0  2]\n",
      " [ 0 18  1  0  1  0  0  0]\n",
      " [ 0  0 20  0  0  0  0  0]\n",
      " [ 0  0  0 20  0  0  0  0]\n",
      " [ 0  0  0  0 20  0  0  0]\n",
      " [ 0  0  0  0  0 20  0  0]\n",
      " [ 0  0  1  0  0  0 18  1]\n",
      " [ 0  0  0  0  0  0  0 20]]\n"
     ]
    },
    {
     "data": {
      "text/plain": [
       "<AxesSubplot:>"
      ]
     },
     "execution_count": 16,
     "metadata": {},
     "output_type": "execute_result"
    },
    {
     "data": {
      "image/png": "[encoded data removed]",
      "text/plain": [
       "<Figure size 720x504 with 2 Axes>"
      ]
     },
     "metadata": {
      "needs_background": "light"
     },
     "output_type": "display_data"
    }
   ],
   "source": [
    "from sklearn.metrics import classification_report, confusion_matrix\n",
    "\n",
    "Y_pred = model.predict(test_data)\n",
    "y_pred = np.argmax(Y_pred, axis=1) \n",
    "conn = confusion_matrix(test_data.classes, y_pred)\n",
    "print('Confusion Matrix')\n",
    "print(conn)\n",
    "df_cm = pd.DataFrame(conn, index = class_names,\n",
    "                  columns = class_names)\n",
    "plt.figure(figsize = (10,7))\n",
    "sn.heatmap(df_cm, annot=True, cmap=\"OrRd\")"
   ]
  },
  {
   "cell_type": "code",
   "execution_count": 18,
   "id": "b09c9de9-4297-4c71-a95a-b28848779749",
   "metadata": {},
   "outputs": [
    {
     "name": "stdout",
     "output_type": "stream",
     "text": [
      "                  precision    recall  f1-score   support\n",
      "\n",
      "       kue_cenil       1.00      0.80      0.89        20\n",
      "      kue_clorot       1.00      0.90      0.95        20\n",
      "kue_dadar_gulung       0.95      1.00      0.98        20\n",
      "      kue_klepon       1.00      1.00      1.00        20\n",
      "       kue_lapis       0.95      1.00      0.98        20\n",
      "      kue_lumpur       0.95      1.00      0.98        20\n",
      "      kue_mendut       1.00      0.90      0.95        20\n",
      "      kue_serabi       0.87      1.00      0.93        20\n",
      "\n",
      "       micro avg       0.96      0.95      0.96       160\n",
      "       macro avg       0.97      0.95      0.96       160\n",
      "    weighted avg       0.97      0.95      0.96       160\n",
      "     samples avg       0.95      0.95      0.95       160\n",
      "\n"
     ]
    },
    {
     "name": "stderr",
     "output_type": "stream",
     "text": [
      "/home/bimo/.local/lib/python3.8/site-packages/sklearn/metrics/_classification.py:1248: UndefinedMetricWarning: Precision and F-score are ill-defined and being set to 0.0 in samples with no predicted labels. Use `zero_division` parameter to control this behavior.\n",
      "  _warn_prf(average, modifier, msg_start, len(result))\n"
     ]
    }
   ],
   "source": [
    "from sklearn import metrics\n",
    "test_labels = test_data.classes\n",
    "test_labels = tf.keras.utils.to_categorical(test_labels, num_classes=test_data.num_classes)\n",
    "\n",
    "preds = np.round(model.predict(test_data),0)\n",
    "\n",
    "classification_metrics = metrics.classification_report(test_labels, preds, target_names=class_names)\n",
    "print(classification_metrics)"
   ]
  },
  {
   "cell_type": "code",
   "execution_count": null,
   "id": "olympic-hydrogen",
   "metadata": {},
   "outputs": [],
   "source": [
    "# from sklearn.metrics import classification_report, confusion_matrix\n",
    "# from mlxtend.plotting import plot_confusion_matrix\n",
    "\n",
    "# pred = model.predict(test_data)\n",
    "# y_pred = tf.argmax(pred, 1) \n",
    "# plot_conf = confusion_matrix(test_data.classes, y_pred)\n",
    "# plot_confusion_matrix(conf_mat=plot_conf)\n",
    "# # prediction=tf.argmax(y,1)\n",
    "\n",
    "# # res = tf.math.confusion_matrix(prediction,pred)\n",
    "# # print('Confusion_matrix: ',res)"
   ]
  },
  {
   "cell_type": "code",
   "execution_count": null,
   "id": "c3a1b2dd-503e-4ecf-bd1f-98219c581b0a",
   "metadata": {},
   "outputs": [],
   "source": [
    "# x, y = test_data.next()\n",
    "# print(x[7])\n",
    "# print(np.where(y)[1][1])"
   ]
  },
  {
   "cell_type": "code",
   "execution_count": null,
   "id": "bizarre-spirituality",
   "metadata": {},
   "outputs": [],
   "source": [
    "# num_rows = 1\n",
    "# num_cols = 8\n",
    "# num_images = num_rows*num_cols\n",
    "# plt.figure(figsize=(2*2*num_cols, 2*num_rows))    \n",
    "    \n",
    "# def plot_image2(i, predictions_array, true_label, img):\n",
    "#   true_label, img = true_label[i], img[i]\n",
    "#   wh = np.where(true_label)\n",
    "#   npa = np.int64(wh[0]).astype(int)\n",
    "\n",
    "#   predicted_label = np.argmax(predictions_array)\n",
    "\n",
    "#   plt.grid(False)\n",
    "#   plt.xticks([])\n",
    "#   plt.yticks([])\n",
    "\n",
    "#   plt.imshow(img, cmap=plt.cm.binary)\n",
    "#   plt.xlabel(\"{} {:2.0f}%\".format(class_names[predicted_label],\n",
    "#                                 100*np.max(predictions_array),\n",
    "#                                 ),\n",
    "#              fontsize=16,\n",
    "#              )\n",
    "\n",
    "# def plot_image(i, predictions_array, true_label, img):\n",
    "#   true_label, img = true_label[i], img[i]\n",
    "#   wh = np.where(true_label)\n",
    "#   npa = np.int64(wh[0]).astype(int)\n",
    "\n",
    "#   predicted_label = np.argmax(predictions_array)\n",
    "\n",
    "#   plt.grid(False)\n",
    "#   plt.xticks([])\n",
    "#   plt.yticks([])\n",
    "\n",
    "#   plt.imshow(img, cmap=plt.cm.binary)\n",
    "#   plt.xlabel(\"{} {:2.0f}%\".format(class_names[predicted_label],\n",
    "#                                 100*np.max(predictions_array),\n",
    "#                                 ),\n",
    "#              fontsize=16,\n",
    "#              )\n",
    "\n",
    "\n",
    "# x, y = test_data.next()\n",
    "# print(len(y))\n",
    "# for isi in range(len(y)):\n",
    "#     isi = isi - 1\n",
    "#     hasil_predik = model.predict(x)\n",
    "#     plt.subplot(num_rows, 2*num_cols, 2*i+1)\n",
    "#     plot_image(isi, hasil_predik[isi], y, x)\n",
    "\n",
    "# # for i in range(len(y)):\n",
    "# #   predictions = model.predict(x)\n",
    "# #   plt.subplot(num_rows, 2*num_cols, 2*i+1)\n",
    "# #   plot_image(i-1, predictions[np.where(y)[1][i-1]], y, x)\n",
    "\n",
    "# plt.tight_layout()\n",
    "# plt.show()\n"
   ]
  },
  {
   "cell_type": "code",
   "execution_count": null,
   "id": "greenhouse-video",
   "metadata": {
    "tags": []
   },
   "outputs": [],
   "source": [
    "# num_rows = 3\n",
    "# num_cols = 6\n",
    "# num_images = num_rows*num_cols\n",
    "# plt.figure(figsize=(2*2*num_cols, 2*num_rows))\n",
    "\n",
    "\n",
    "# def plot_image(i, predictions_array, true_label, img):\n",
    "#   true_label, img = true_label[i], img[i]\n",
    "#   wh = np.where(true_label)\n",
    "#   npa = np.int64(wh[0]).astype(int)\n",
    "\n",
    "#   predicted_label = np.argmax(predictions_array)\n",
    "\n",
    "\n",
    "#   plt.grid(False)\n",
    "#   plt.xticks([])\n",
    "#   plt.yticks([])\n",
    "\n",
    "# #   plt.imshow(img, cmap=plt.cm.binary)\n",
    "# #   plt.xlabel(\"{}\".format(class_names[predicted_label],fontsize=16)\n",
    "\n",
    "# x, y = test_data\n",
    "# print(np.argmax(model.predict(x), axis=0))\n",
    "# # for i in range(64):\n",
    "# #   predictions = model.predict(x)\n",
    "# #   print(predictions)\n",
    "# #   plt.subplot(num_rows, 2*num_cols, 2*i+1)\n",
    "# #   plot_image(i, np.argmax(predictions, axis=0), y, x)\n",
    "\n",
    "# plt.tight_layout()\n",
    "# plt.show()\n",
    "\n",
    "\n",
    "# # - ambil gambar test\n",
    "# # - prediksi\n",
    "# # - bandingkan"
   ]
  },
  {
   "cell_type": "code",
   "execution_count": null,
   "id": "02826945-789c-49f6-8769-c44898f59632",
   "metadata": {},
   "outputs": [],
   "source": [
    "# num_rows = 3\n",
    "# num_cols = 6\n",
    "# num_images = num_rows*num_cols\n",
    "# plt.figure(figsize=(2*2*num_cols, 2*num_rows))\n",
    "\n",
    "\n",
    "# def plot_image(i, predictions_array, true_label, img, target):\n",
    "#   true_label, img = true_label[i], img[i]\n",
    "#   wh = np.where(true_label)\n",
    "#   npa = np.int64(wh[0]).astype(int)\n",
    "\n",
    "#   predicted_label = np.argmax(predictions_array)\n",
    "\n",
    "\n",
    "#   plt.grid(False)\n",
    "#   plt.xticks([])\n",
    "#   plt.yticks([])\n",
    "\n",
    "#   plt.imshow(img, cmap=plt.cm.binary)\n",
    "#   plt.xlabel(\"{} {:2.0f}%\".format(class_names[predicted_label],\n",
    "#                                 100*np.max(predictions_array),\n",
    "#                                 ),\n",
    "#              fontsize=16,\n",
    "#              )\n",
    "\n",
    "# target = 7\n",
    "# x, y = test_data.next()\n",
    "# for i in range(64):\n",
    "#   predictions = model.predict(x)\n",
    "#   plt.subplot(num_rows, 2*num_cols, 2*i+1)\n",
    "#   plot_image(i, predictions[i], y, x, target)\n",
    "\n",
    "# plt.tight_layout()\n",
    "# plt.show()\n"
   ]
  },
  {
   "cell_type": "code",
   "execution_count": null,
   "id": "sustainable-minimum",
   "metadata": {},
   "outputs": [],
   "source": [
    "# saved_model_dir = 'model_final'\n",
    "# tf.saved_model.save(model, saved_model_dir)\n",
    "\n",
    "# converter = tf.lite.TFLiteConverter.from_saved_model(saved_model_dir)\n",
    "# tflite_model = converter.convert()\n",
    "\n",
    "# with open('model/14-7-21-p3/model.tflite', 'wb') as f:\n",
    "#   f.write(tflite_model)"
   ]
  },
  {
   "cell_type": "code",
   "execution_count": null,
   "id": "4894ab39-144a-4eff-b41e-f49d9bb11c2b",
   "metadata": {},
   "outputs": [],
   "source": []
  },
  {
   "cell_type": "code",
   "execution_count": null,
   "id": "87671362-341c-4d83-9f8f-0981ffd7a133",
   "metadata": {},
   "outputs": [],
   "source": []
  }
 ],
 "metadata": {
  "kernelspec": {
   "display_name": "Python 3",
   "language": "python",
   "name": "python3"
  },
  "language_info": {
   "codemirror_mode": {
    "name": "ipython",
    "version": 3
   },
   "file_extension": ".py",
   "mimetype": "text/x-python",
   "name": "python",
   "nbconvert_exporter": "python",
   "pygments_lexer": "ipython3",
   "version": "3.8.10"
  }
 },
 "nbformat": 4,
 "nbformat_minor": 5
}
