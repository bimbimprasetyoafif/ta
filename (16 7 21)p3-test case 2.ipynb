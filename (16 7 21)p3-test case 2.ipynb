{
 "cells": [
  {
   "cell_type": "code",
   "execution_count": 1,
   "id": "running-saint",
   "metadata": {},
   "outputs": [
    {
     "name": "stdout",
     "output_type": "stream",
     "text": [
      "[name: \"/device:CPU:0\"\n",
      "device_type: \"CPU\"\n",
      "memory_limit: 268435456\n",
      "locality {\n",
      "}\n",
      "incarnation: 13944358321332041247\n",
      ", name: \"/device:XLA_CPU:0\"\n",
      "device_type: \"XLA_CPU\"\n",
      "memory_limit: 17179869184\n",
      "locality {\n",
      "}\n",
      "incarnation: 14595703999751387740\n",
      "physical_device_desc: \"device: XLA_CPU device\"\n",
      ", name: \"/device:XLA_GPU:0\"\n",
      "device_type: \"XLA_GPU\"\n",
      "memory_limit: 17179869184\n",
      "locality {\n",
      "}\n",
      "incarnation: 4690670978610252009\n",
      "physical_device_desc: \"device: XLA_GPU device\"\n",
      "]\n"
     ]
    }
   ],
   "source": [
    "# Set all dependency and variable\n",
    "\n",
    "# %load_ext tensorboard\n",
    "import datetime\n",
    "import numpy as np\n",
    "import seaborn as sn\n",
    "import pandas as pd\n",
    "import sklearn.metrics\n",
    "import matplotlib.pyplot as plt\n",
    "\n",
    "import tensorflow as tf\n",
    "import keras_preprocessing\n",
    "\n",
    "from tensorflow.python.client import device_lib \n",
    "from tensorflow.keras import utils, layers, backend\n",
    "\n",
    "from keras_preprocessing import image\n",
    "from keras_preprocessing.image import ImageDataGenerator\n",
    "\n",
    "from skimage import exposure\n",
    "from skimage import filters\n",
    "\n",
    "\n",
    "print(device_lib.list_local_devices())\n"
   ]
  },
  {
   "cell_type": "code",
   "execution_count": 2,
   "id": "cordless-folks",
   "metadata": {},
   "outputs": [
    {
     "name": "stdout",
     "output_type": "stream",
     "text": [
      "Num CPUUs Available:  1\n",
      "Num GPUs Available:  0\n"
     ]
    }
   ],
   "source": [
    "# Check number of CPU and GPU that Tensorflow used\\\n",
    "\n",
    "print(\"Num CPUUs Available: \", len(tf.config.list_physical_devices('CPU')))\n",
    "print(\"Num GPUs Available: \", len(tf.config.list_physical_devices('GPU')))\n",
    "# physical_devices = tf.config.list_physical_devices('GPU') \n",
    "# tf.config.experimental.set_memory_growth(physical_devices[0], True)"
   ]
  },
  {
   "cell_type": "code",
   "execution_count": 3,
   "id": "precise-showcase",
   "metadata": {},
   "outputs": [],
   "source": [
    "IMAGE_SIZE = 224\n",
    "BATCH_SIZE = 8\n",
    "\n",
    "IMAGE_SHAPE = (IMAGE_SIZE, IMAGE_SIZE, 3)"
   ]
  },
  {
   "cell_type": "code",
   "execution_count": 4,
   "id": "unlimited-warrior",
   "metadata": {},
   "outputs": [],
   "source": [
    "datagen = ImageDataGenerator(\n",
    "#     rescale = 1./127.5,\n",
    "    rescale = 1./255. ,\n",
    "    rotation_range=45,\n",
    "    # featurewise_center=True,\n",
    "    width_shift_range=0.2,\n",
    "    height_shift_range=0.2,\n",
    "    shear_range=0.2,\n",
    "#     zoom_range=0.2,\n",
    "    horizontal_flip=True,\n",
    "    fill_mode='nearest',\n",
    "#     preprocessing_function = preprocess,\n",
    "    validation_split=0.25,\n",
    ")\n",
    "\n",
    "test_generator = ImageDataGenerator(\n",
    "    rescale = 1./255. ,\n",
    "    validation_split=0.25,\n",
    ")\n"
   ]
  },
  {
   "cell_type": "code",
   "execution_count": 5,
   "id": "paperback-aviation",
   "metadata": {},
   "outputs": [
    {
     "name": "stdout",
     "output_type": "stream",
     "text": [
      "Loading training data...\t\tFound 638 images belonging to 8 classes.\n",
      "Loading validation data...\t\tFound 207 images belonging to 8 classes.\n"
     ]
    }
   ],
   "source": [
    "TRAINING_DIR = \"dataset\"\n",
    "VALIDATION_DIR = \"validation\"\n",
    "TEST_DIR = \"dataset_kue_test_2\"\n",
    "\n",
    "print(\"Loading training data...\\t\\t\", end='')\n",
    "train_generator = datagen.flow_from_directory(\n",
    "\t  TRAINING_DIR,\n",
    "  \ttarget_size=(IMAGE_SIZE,IMAGE_SIZE),\n",
    "    batch_size=BATCH_SIZE,\n",
    "    subset='training',\n",
    "    class_mode='categorical',\n",
    "    shuffle=True,\n",
    ")\n",
    "\n",
    "print(\"Loading validation data...\\t\\t\", end='')\n",
    "validation_generator = test_generator.flow_from_directory(\n",
    "  \t TRAINING_DIR,\n",
    "#     VALIDATION_DIR,\n",
    "\t  target_size=(IMAGE_SIZE,IMAGE_SIZE),\n",
    "    batch_size=BATCH_SIZE,\n",
    "    subset='validation',\n",
    "    class_mode='categorical',\n",
    "    shuffle=True,\n",
    ")\n"
   ]
  },
  {
   "cell_type": "code",
   "execution_count": 6,
   "id": "90d6f8bf-fdd8-497b-a275-38c910d80bb2",
   "metadata": {},
   "outputs": [
    {
     "name": "stdout",
     "output_type": "stream",
     "text": [
      "Loading testing data...\t\tFound 160 images belonging to 8 classes.\n"
     ]
    }
   ],
   "source": [
    "\n",
    "print(\"Loading testing data...\\t\\t\", end='')\n",
    "test_data = test_generator.flow_from_directory(\n",
    "    TEST_DIR,\n",
    "    target_size=(IMAGE_SIZE,IMAGE_SIZE),\n",
    "    batch_size=BATCH_SIZE,\n",
    "    class_mode='categorical',\n",
    "    shuffle=False,\n",
    ")"
   ]
  },
  {
   "cell_type": "code",
   "execution_count": null,
   "id": "appointed-richards",
   "metadata": {},
   "outputs": [],
   "source": [
    "# train_images_7, train_labels_7 = train_generator[5]\n",
    "# print(train_images_7.shape)\n",
    "# print(train_labels_7.shape)\n",
    "\n",
    "# plt.figure(figsize=(20, 20))\n",
    "\n",
    "# for idx in range(16):\n",
    "#     ax = plt.subplot(2, 4, idx + 1)\n",
    "#     plt.imshow(keras_preprocessing.image.array_to_img(train_images_7[idx]))\n",
    "#     plt.title(str(train_labels_7[idx]))\n",
    "#     plt.axis('off')\n",
    "\n",
    "# plt.show"
   ]
  },
  {
   "cell_type": "code",
   "execution_count": 7,
   "id": "adequate-means",
   "metadata": {},
   "outputs": [
    {
     "name": "stdout",
     "output_type": "stream",
     "text": [
      "['kue_cenil', 'kue_clorot', 'kue_dadar_gulung', 'kue_klepon', 'kue_lapis', 'kue_lumpur', 'kue_mendut', 'kue_serabi']\n"
     ]
    }
   ],
   "source": [
    "class_names = []\n",
    "for a in train_generator.class_indices:\n",
    "    class_names.append(a)\n",
    "print(class_names)"
   ]
  },
  {
   "cell_type": "code",
   "execution_count": 8,
   "id": "derived-islam",
   "metadata": {},
   "outputs": [
    {
     "data": {
      "text/plain": [
       "((8, 224, 224, 3), (8, 8))"
      ]
     },
     "execution_count": 8,
     "metadata": {},
     "output_type": "execute_result"
    }
   ],
   "source": [
    "for image_batch, label_batch in train_generator:\n",
    "  break\n",
    "image_batch.shape, label_batch.shape"
   ]
  },
  {
   "cell_type": "code",
   "execution_count": null,
   "id": "protecting-leeds",
   "metadata": {},
   "outputs": [],
   "source": [
    "print (train_generator.class_indices)\n",
    "\n",
    "labels = '\\n'.join(sorted(train_generator.class_indices.keys()))\n",
    "\n",
    "with open('labels.txt', 'w') as f:\n",
    "  f.write(labels)"
   ]
  },
  {
   "cell_type": "code",
   "execution_count": 9,
   "id": "characteristic-cable",
   "metadata": {},
   "outputs": [],
   "source": [
    "base_model = tf.keras.applications.MobileNetV2(\n",
    "    IMAGE_SHAPE,\n",
    "    include_top=False,\n",
    "    weights='imagenet',\n",
    ")\n",
    "base_model.trainable = False\n",
    "# base_model.summary()"
   ]
  },
  {
   "cell_type": "code",
   "execution_count": 18,
   "id": "acquired-cheese",
   "metadata": {},
   "outputs": [],
   "source": [
    "input_layer = tf.keras.Input(shape=IMAGE_SHAPE)\n",
    "# x = tf.keras.applications.mobilenet_v2.preprocess_input(input_layer)\n",
    "x = base_model(input_layer, training=False)\n",
    "\n",
    "#keras\n",
    "# x = layers.GlobalAveragePooling2D()(x)\n",
    "\n",
    "#fastai\n",
    "# x1 = layers.GlobalAveragePooling2D()(x)\n",
    "# x2 = layers.GlobalMaxPooling2D()(x)\n",
    "# x = layers.Concatenate()([x1, x2])\n",
    "# x = layers.BatchNormalization()(x)\n",
    "# x = layers.Dropout(0.5)(x)\n",
    "# x = layers.Dense(512, activation=\"relu\")(x)\n",
    "# x = layers.BatchNormalization()(x)\n",
    "# x = layers.Dropout(0.5)(x)\n",
    "\n",
    "#sazzad\n",
    "x = layers.GlobalAveragePooling2D()(x)\n",
    "x = layers.Dropout(0.5)(x)\n",
    "x = layers.Dense(1024, activation=\"relu\")(x)\n",
    "x = layers.Dropout(0.5)(x)\n",
    "\n",
    "#bimo\n",
    "# x = layers.GlobalMaxPooling2D()(x)\n",
    "# x = layers.Dense(1024, activation=\"relu\")(x)\n",
    "# x = layers.Dropout(0.2)(x)\n",
    "# x = layers.Dense(128, activation=\"relu\")(x)\n",
    "# x = layers.Dropout(0.2)(x)\n",
    "\n",
    "output_layer = layers.Dense(train_generator.num_classes, activation=\"softmax\")(x)\n",
    "\n",
    "model = tf.keras.Model(inputs=input_layer, outputs=output_layer)\n"
   ]
  },
  {
   "cell_type": "code",
   "execution_count": 19,
   "id": "65453e2e-a236-49de-b402-068e7fd4fe9f",
   "metadata": {},
   "outputs": [
    {
     "name": "stdout",
     "output_type": "stream",
     "text": [
      "Model: \"model_2\"\n",
      "_________________________________________________________________\n",
      "Layer (type)                 Output Shape              Param #   \n",
      "=================================================================\n",
      "input_4 (InputLayer)         [(None, 224, 224, 3)]     0         \n",
      "_________________________________________________________________\n",
      "mobilenetv2_1.00_224 (Model) (None, 7, 7, 1280)        2257984   \n",
      "_________________________________________________________________\n",
      "global_average_pooling2d_2 ( (None, 1280)              0         \n",
      "_________________________________________________________________\n",
      "dropout_4 (Dropout)          (None, 1280)              0         \n",
      "_________________________________________________________________\n",
      "dense_4 (Dense)              (None, 1024)              1311744   \n",
      "_________________________________________________________________\n",
      "dropout_5 (Dropout)          (None, 1024)              0         \n",
      "_________________________________________________________________\n",
      "dense_5 (Dense)              (None, 8)                 8200      \n",
      "=================================================================\n",
      "Total params: 3,577,928\n",
      "Trainable params: 1,319,944\n",
      "Non-trainable params: 2,257,984\n",
      "_________________________________________________________________\n"
     ]
    },
    {
     "data": {
      "image/png": "[encoded data removed]",
      "text/plain": [
       "<IPython.core.display.Image object>"
      ]
     },
     "execution_count": 19,
     "metadata": {},
     "output_type": "execute_result"
    }
   ],
   "source": [
    "# Case 1\n",
    "l_rate = 0.001\n",
    "model.compile(loss='categorical_crossentropy', optimizer=tf.keras.optimizers.Adam(learning_rate=l_rate), metrics=['accuracy'])\n",
    "\n",
    "model.summary()\n",
    "utils.plot_model(model, show_layer_names=True, show_shapes=True)"
   ]
  },
  {
   "cell_type": "code",
   "execution_count": 20,
   "id": "neither-trace",
   "metadata": {},
   "outputs": [
    {
     "name": "stdout",
     "output_type": "stream",
     "text": [
      "Epoch 1/20\n",
      "80/80 [==============================] - 22s 270ms/step - loss: 1.2220 - accuracy: 0.6379 - val_loss: 0.2418 - val_accuracy: 0.9179\n",
      "Epoch 2/20\n",
      "80/80 [==============================] - 21s 262ms/step - loss: 0.5407 - accuracy: 0.8135 - val_loss: 0.2745 - val_accuracy: 0.8986\n",
      "Epoch 3/20\n",
      "80/80 [==============================] - 21s 264ms/step - loss: 0.3398 - accuracy: 0.8746 - val_loss: 0.2155 - val_accuracy: 0.9082\n",
      "Epoch 4/20\n",
      "80/80 [==============================] - 22s 270ms/step - loss: 0.3688 - accuracy: 0.8934 - val_loss: 0.2563 - val_accuracy: 0.9082\n",
      "Epoch 5/20\n",
      "80/80 [==============================] - 21s 263ms/step - loss: 0.3691 - accuracy: 0.8840 - val_loss: 0.1965 - val_accuracy: 0.9179\n",
      "Epoch 6/20\n",
      "80/80 [==============================] - 21s 263ms/step - loss: 0.3613 - accuracy: 0.8793 - val_loss: 0.2383 - val_accuracy: 0.9275\n",
      "Epoch 7/20\n",
      "80/80 [==============================] - 21s 263ms/step - loss: 0.2846 - accuracy: 0.9091 - val_loss: 0.1618 - val_accuracy: 0.9420\n",
      "Epoch 8/20\n",
      "80/80 [==============================] - 21s 263ms/step - loss: 0.2572 - accuracy: 0.9295 - val_loss: 0.3696 - val_accuracy: 0.9179\n",
      "Epoch 9/20\n",
      "80/80 [==============================] - 21s 262ms/step - loss: 0.2776 - accuracy: 0.9091 - val_loss: 0.2113 - val_accuracy: 0.9420\n",
      "Epoch 10/20\n",
      "80/80 [==============================] - 21s 267ms/step - loss: 0.2261 - accuracy: 0.9404 - val_loss: 0.2377 - val_accuracy: 0.9420\n",
      "Epoch 11/20\n",
      "80/80 [==============================] - 22s 271ms/step - loss: 0.3127 - accuracy: 0.9091 - val_loss: 0.0995 - val_accuracy: 0.9662\n",
      "Epoch 12/20\n",
      "80/80 [==============================] - 21s 262ms/step - loss: 0.2288 - accuracy: 0.9295 - val_loss: 0.2361 - val_accuracy: 0.9324\n",
      "Epoch 13/20\n",
      "80/80 [==============================] - 21s 261ms/step - loss: 0.3037 - accuracy: 0.9342 - val_loss: 0.1857 - val_accuracy: 0.9517\n",
      "Epoch 14/20\n",
      "80/80 [==============================] - 21s 262ms/step - loss: 0.2483 - accuracy: 0.9342 - val_loss: 0.1700 - val_accuracy: 0.9517\n",
      "Epoch 15/20\n",
      "80/80 [==============================] - 21s 261ms/step - loss: 0.2157 - accuracy: 0.9483 - val_loss: 0.2281 - val_accuracy: 0.9420\n",
      "Epoch 16/20\n",
      "80/80 [==============================] - 21s 259ms/step - loss: 0.1841 - accuracy: 0.9467 - val_loss: 0.1795 - val_accuracy: 0.9324\n",
      "Epoch 17/20\n",
      "80/80 [==============================] - 21s 261ms/step - loss: 0.2142 - accuracy: 0.9498 - val_loss: 0.1774 - val_accuracy: 0.9324\n",
      "Epoch 18/20\n",
      "80/80 [==============================] - 24s 298ms/step - loss: 0.2093 - accuracy: 0.9373 - val_loss: 0.1510 - val_accuracy: 0.9372\n",
      "Epoch 19/20\n",
      "80/80 [==============================] - 21s 267ms/step - loss: 0.2242 - accuracy: 0.9436 - val_loss: 0.3304 - val_accuracy: 0.9324\n",
      "Epoch 20/20\n",
      "80/80 [==============================] - 21s 260ms/step - loss: 0.1314 - accuracy: 0.9577 - val_loss: 0.1631 - val_accuracy: 0.9324\n"
     ]
    }
   ],
   "source": [
    "# Case 1\n",
    "n_epoch = 20\n",
    "history = model.fit(train_generator,\n",
    "                    epochs=n_epoch, \n",
    "                    validation_data = validation_generator, \n",
    "                    verbose=1,\n",
    "                    # callbacks=[es_callback],\n",
    "#                     callbacks=[cm_callback],\n",
    "                    )"
   ]
  },
  {
   "cell_type": "code",
   "execution_count": 21,
   "id": "experienced-publication",
   "metadata": {},
   "outputs": [
    {
     "name": "stdout",
     "output_type": "stream",
     "text": [
      "Model evaluate Case 1:\n",
      "20/20 [==============================] - 3s 134ms/step - loss: 0.3486 - accuracy: 0.9375\n"
     ]
    }
   ],
   "source": [
    "# Case 1\n",
    "print(\"Model evaluate Case 1:\")\n",
    "results = model.evaluate(test_data)"
   ]
  },
  {
   "cell_type": "code",
   "execution_count": 22,
   "id": "dynamic-sunset",
   "metadata": {},
   "outputs": [
    {
     "name": "stdout",
     "output_type": "stream",
     "text": [
      "Confusion Matrix\n",
      "[[14  1  0  0  0  1  0  4]\n",
      " [ 0 19  1  0  0  0  0  0]\n",
      " [ 0  0 19  0  0  0  1  0]\n",
      " [ 0  0  0 20  0  0  0  0]\n",
      " [ 0  0  0  0 20  0  0  0]\n",
      " [ 0  0  0  0  0 20  0  0]\n",
      " [ 0  0  0  1  0  0 18  1]\n",
      " [ 0  0  0  0  0  0  0 20]]\n"
     ]
    },
    {
     "data": {
      "text/plain": [
       "<AxesSubplot:>"
      ]
     },
     "execution_count": 22,
     "metadata": {},
     "output_type": "execute_result"
    },
    {
     "data": {
      "image/png": "[encoded data removed]",
      "text/plain": [
       "<Figure size 720x504 with 2 Axes>"
      ]
     },
     "metadata": {
      "needs_background": "light"
     },
     "output_type": "display_data"
    }
   ],
   "source": [
    "from sklearn.metrics import classification_report, confusion_matrix\n",
    "\n",
    "Y_pred = model.predict(test_data)\n",
    "y_pred = np.argmax(Y_pred, axis=1) \n",
    "conn = confusion_matrix(test_data.classes, y_pred)\n",
    "print('Confusion Matrix')\n",
    "print(conn)\n",
    "df_cm = pd.DataFrame(conn, index = class_names,\n",
    "                  columns = class_names)\n",
    "plt.figure(figsize = (10,7))\n",
    "sn.heatmap(df_cm, annot=True, cmap=\"OrRd\")"
   ]
  },
  {
   "cell_type": "code",
   "execution_count": null,
   "id": "4b21eb11-8495-4aad-8b57-bf951e19cbf9",
   "metadata": {},
   "outputs": [],
   "source": [
    "num_rows = 3\n",
    "num_cols = 6\n",
    "num_images = num_rows*num_cols\n",
    "plt.figure(figsize=(2*2*num_cols, 2*num_rows))\n",
    "\n",
    "\n",
    "def plot_image(i, predictions_array, true_label, img, target):\n",
    "  true_label, img = true_label[i], img[i]\n",
    "  wh = np.where(true_label)\n",
    "  npa = np.int64(wh[0]).astype(int)\n",
    "\n",
    "  predicted_label = np.argmax(predictions_array)\n",
    "\n",
    "\n",
    "  plt.grid(False)\n",
    "  plt.xticks([])\n",
    "  plt.yticks([])\n",
    "\n",
    "  plt.imshow(img, cmap=plt.cm.binary)\n",
    "  plt.xlabel(\"{} {:2.0f}%\".format(class_names[predicted_label],\n",
    "                                100*np.max(predictions_array),\n",
    "                                ),\n",
    "             fontsize=16,\n",
    "             )\n",
    "\n",
    "target = 7\n",
    "x, y = test_data.next()\n",
    "for i in range(64):\n",
    "  predictions = model.predict(x)\n",
    "  plt.subplot(num_rows, 2*num_cols, 2*i+1)\n",
    "  plot_image(i, predictions[i], y, x, target)\n",
    "\n",
    "plt.tight_layout()\n",
    "plt.show()\n"
   ]
  },
  {
   "cell_type": "code",
   "execution_count": null,
   "id": "after-relevance",
   "metadata": {},
   "outputs": [],
   "source": [
    "# Graph Before\n",
    "\n",
    "acc = history.history['accuracy']\n",
    "val_acc = history.history['val_accuracy']\n",
    "\n",
    "loss = history.history['loss']\n",
    "val_loss = history.history['val_loss']\n",
    "\n",
    "plt.figure(figsize=(8, 8))\n",
    "plt.subplot(2, 1, 1)\n",
    "plt.plot(acc, label='Training Accuracy')\n",
    "plt.plot(val_acc, label='Validation Accuracy')\n",
    "plt.legend(loc='lower right')\n",
    "plt.ylabel('Accuracy')\n",
    "plt.ylim([min(plt.ylim()),1])\n",
    "plt.title('Training and Validation Accuracy')\n",
    "\n",
    "plt.subplot(2, 1, 2)\n",
    "plt.plot(loss, label='Training Loss')\n",
    "plt.plot(val_loss, label='Validation Loss')\n",
    "plt.legend(loc='upper right')\n",
    "plt.ylabel('Cross Entropy')\n",
    "plt.ylim([0,3.0])\n",
    "plt.title('Training and Validation Loss')\n",
    "plt.xlabel('epoch')\n",
    "plt.show()\n"
   ]
  },
  {
   "cell_type": "code",
   "execution_count": null,
   "id": "4894ab39-144a-4eff-b41e-f49d9bb11c2b",
   "metadata": {},
   "outputs": [],
   "source": []
  },
  {
   "cell_type": "code",
   "execution_count": null,
   "id": "87671362-341c-4d83-9f8f-0981ffd7a133",
   "metadata": {},
   "outputs": [],
   "source": []
  }
 ],
 "metadata": {
  "kernelspec": {
   "display_name": "Python 3",
   "language": "python",
   "name": "python3"
  },
  "language_info": {
   "codemirror_mode": {
    "name": "ipython",
    "version": 3
   },
   "file_extension": ".py",
   "mimetype": "text/x-python",
   "name": "python",
   "nbconvert_exporter": "python",
   "pygments_lexer": "ipython3",
   "version": "3.8.10"
  }
 },
 "nbformat": 4,
 "nbformat_minor": 5
}
